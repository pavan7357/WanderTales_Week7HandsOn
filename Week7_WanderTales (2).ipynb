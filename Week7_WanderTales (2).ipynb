{
  "nbformat": 4,
  "nbformat_minor": 0,
  "metadata": {
    "colab": {
      "provenance": []
    },
    "kernelspec": {
      "name": "python3",
      "display_name": "Python 3"
    },
    "language_info": {
      "name": "python"
    }
  },
  "cells": [
    {
      "cell_type": "code",
      "execution_count": 26,
      "metadata": {
        "colab": {
          "base_uri": "https://localhost:8080/"
        },
        "collapsed": true,
        "id": "Cw8jbDFPWTqF",
        "outputId": "3d5b246e-32b8-4d0a-aae4-6517b68607ba"
      },
      "outputs": [
        {
          "output_type": "stream",
          "name": "stdout",
          "text": [
            "Requirement already satisfied: openai in /usr/local/lib/python3.11/dist-packages (1.65.4)\n",
            "Requirement already satisfied: wikipedia-api in /usr/local/lib/python3.11/dist-packages (0.8.1)\n",
            "Requirement already satisfied: serpapi in /usr/local/lib/python3.11/dist-packages (0.1.5)\n",
            "Requirement already satisfied: requests in /usr/local/lib/python3.11/dist-packages (2.32.3)\n",
            "Requirement already satisfied: gtts in /usr/local/lib/python3.11/dist-packages (2.5.4)\n",
            "Requirement already satisfied: moviepy in /usr/local/lib/python3.11/dist-packages (2.1.2)\n",
            "Requirement already satisfied: onnx in /usr/local/lib/python3.11/dist-packages (1.17.0)\n",
            "Requirement already satisfied: onnxruntime in /usr/local/lib/python3.11/dist-packages (1.21.0)\n",
            "Requirement already satisfied: huggingface_hub in /usr/local/lib/python3.11/dist-packages (0.29.2)\n",
            "Requirement already satisfied: streamlit in /usr/local/lib/python3.11/dist-packages (1.43.1)\n",
            "Requirement already satisfied: amadeus in /usr/local/lib/python3.11/dist-packages (11.0.0)\n",
            "Requirement already satisfied: anyio<5,>=3.5.0 in /usr/local/lib/python3.11/dist-packages (from openai) (3.7.1)\n",
            "Requirement already satisfied: distro<2,>=1.7.0 in /usr/local/lib/python3.11/dist-packages (from openai) (1.9.0)\n",
            "Requirement already satisfied: httpx<1,>=0.23.0 in /usr/local/lib/python3.11/dist-packages (from openai) (0.28.1)\n",
            "Requirement already satisfied: jiter<1,>=0.4.0 in /usr/local/lib/python3.11/dist-packages (from openai) (0.8.2)\n",
            "Requirement already satisfied: pydantic<3,>=1.9.0 in /usr/local/lib/python3.11/dist-packages (from openai) (2.10.6)\n",
            "Requirement already satisfied: sniffio in /usr/local/lib/python3.11/dist-packages (from openai) (1.3.1)\n",
            "Requirement already satisfied: tqdm>4 in /usr/local/lib/python3.11/dist-packages (from openai) (4.67.1)\n",
            "Requirement already satisfied: typing-extensions<5,>=4.11 in /usr/local/lib/python3.11/dist-packages (from openai) (4.12.2)\n",
            "Requirement already satisfied: charset-normalizer<4,>=2 in /usr/local/lib/python3.11/dist-packages (from requests) (3.4.1)\n",
            "Requirement already satisfied: idna<4,>=2.5 in /usr/local/lib/python3.11/dist-packages (from requests) (3.10)\n",
            "Requirement already satisfied: urllib3<3,>=1.21.1 in /usr/local/lib/python3.11/dist-packages (from requests) (2.3.0)\n",
            "Requirement already satisfied: certifi>=2017.4.17 in /usr/local/lib/python3.11/dist-packages (from requests) (2025.1.31)\n",
            "Requirement already satisfied: click<8.2,>=7.1 in /usr/local/lib/python3.11/dist-packages (from gtts) (8.1.8)\n",
            "Requirement already satisfied: decorator<6.0,>=4.0.2 in /usr/local/lib/python3.11/dist-packages (from moviepy) (4.4.2)\n",
            "Requirement already satisfied: imageio<3.0,>=2.5 in /usr/local/lib/python3.11/dist-packages (from moviepy) (2.37.0)\n",
            "Requirement already satisfied: imageio_ffmpeg>=0.2.0 in /usr/local/lib/python3.11/dist-packages (from moviepy) (0.6.0)\n",
            "Requirement already satisfied: numpy>=1.25.0 in /usr/local/lib/python3.11/dist-packages (from moviepy) (1.26.4)\n",
            "Requirement already satisfied: proglog<=1.0.0 in /usr/local/lib/python3.11/dist-packages (from moviepy) (0.1.10)\n",
            "Requirement already satisfied: python-dotenv>=0.10 in /usr/local/lib/python3.11/dist-packages (from moviepy) (1.0.1)\n",
            "Requirement already satisfied: pillow<11.0,>=9.2.0 in /usr/local/lib/python3.11/dist-packages (from moviepy) (10.4.0)\n",
            "Requirement already satisfied: protobuf>=3.20.2 in /usr/local/lib/python3.11/dist-packages (from onnx) (4.25.6)\n",
            "Requirement already satisfied: coloredlogs in /usr/local/lib/python3.11/dist-packages (from onnxruntime) (15.0.1)\n",
            "Requirement already satisfied: flatbuffers in /usr/local/lib/python3.11/dist-packages (from onnxruntime) (25.2.10)\n",
            "Requirement already satisfied: packaging in /usr/local/lib/python3.11/dist-packages (from onnxruntime) (24.2)\n",
            "Requirement already satisfied: sympy in /usr/local/lib/python3.11/dist-packages (from onnxruntime) (1.13.1)\n",
            "Requirement already satisfied: filelock in /usr/local/lib/python3.11/dist-packages (from huggingface_hub) (3.17.0)\n",
            "Requirement already satisfied: fsspec>=2023.5.0 in /usr/local/lib/python3.11/dist-packages (from huggingface_hub) (2024.10.0)\n",
            "Requirement already satisfied: pyyaml>=5.1 in /usr/local/lib/python3.11/dist-packages (from huggingface_hub) (6.0.2)\n",
            "Requirement already satisfied: altair<6,>=4.0 in /usr/local/lib/python3.11/dist-packages (from streamlit) (5.5.0)\n",
            "Requirement already satisfied: blinker<2,>=1.0.0 in /usr/local/lib/python3.11/dist-packages (from streamlit) (1.9.0)\n",
            "Requirement already satisfied: cachetools<6,>=4.0 in /usr/local/lib/python3.11/dist-packages (from streamlit) (5.5.2)\n",
            "Requirement already satisfied: pandas<3,>=1.4.0 in /usr/local/lib/python3.11/dist-packages (from streamlit) (2.2.2)\n",
            "Requirement already satisfied: pyarrow>=7.0 in /usr/local/lib/python3.11/dist-packages (from streamlit) (18.1.0)\n",
            "Requirement already satisfied: tenacity<10,>=8.1.0 in /usr/local/lib/python3.11/dist-packages (from streamlit) (9.0.0)\n",
            "Requirement already satisfied: toml<2,>=0.10.1 in /usr/local/lib/python3.11/dist-packages (from streamlit) (0.10.2)\n",
            "Requirement already satisfied: watchdog<7,>=2.1.5 in /usr/local/lib/python3.11/dist-packages (from streamlit) (6.0.0)\n",
            "Requirement already satisfied: gitpython!=3.1.19,<4,>=3.0.7 in /usr/local/lib/python3.11/dist-packages (from streamlit) (3.1.44)\n",
            "Requirement already satisfied: pydeck<1,>=0.8.0b4 in /usr/local/lib/python3.11/dist-packages (from streamlit) (0.9.1)\n",
            "Requirement already satisfied: tornado<7,>=6.0.3 in /usr/local/lib/python3.11/dist-packages (from streamlit) (6.4.2)\n",
            "Requirement already satisfied: jinja2 in /usr/local/lib/python3.11/dist-packages (from altair<6,>=4.0->streamlit) (3.1.5)\n",
            "Requirement already satisfied: jsonschema>=3.0 in /usr/local/lib/python3.11/dist-packages (from altair<6,>=4.0->streamlit) (4.23.0)\n",
            "Requirement already satisfied: narwhals>=1.14.2 in /usr/local/lib/python3.11/dist-packages (from altair<6,>=4.0->streamlit) (1.29.0)\n",
            "Requirement already satisfied: gitdb<5,>=4.0.1 in /usr/local/lib/python3.11/dist-packages (from gitpython!=3.1.19,<4,>=3.0.7->streamlit) (4.0.12)\n",
            "Requirement already satisfied: httpcore==1.* in /usr/local/lib/python3.11/dist-packages (from httpx<1,>=0.23.0->openai) (1.0.7)\n",
            "Requirement already satisfied: h11<0.15,>=0.13 in /usr/local/lib/python3.11/dist-packages (from httpcore==1.*->httpx<1,>=0.23.0->openai) (0.14.0)\n",
            "Requirement already satisfied: python-dateutil>=2.8.2 in /usr/local/lib/python3.11/dist-packages (from pandas<3,>=1.4.0->streamlit) (2.8.2)\n",
            "Requirement already satisfied: pytz>=2020.1 in /usr/local/lib/python3.11/dist-packages (from pandas<3,>=1.4.0->streamlit) (2025.1)\n",
            "Requirement already satisfied: tzdata>=2022.7 in /usr/local/lib/python3.11/dist-packages (from pandas<3,>=1.4.0->streamlit) (2025.1)\n",
            "Requirement already satisfied: annotated-types>=0.6.0 in /usr/local/lib/python3.11/dist-packages (from pydantic<3,>=1.9.0->openai) (0.7.0)\n",
            "Requirement already satisfied: pydantic-core==2.27.2 in /usr/local/lib/python3.11/dist-packages (from pydantic<3,>=1.9.0->openai) (2.27.2)\n",
            "Requirement already satisfied: humanfriendly>=9.1 in /usr/local/lib/python3.11/dist-packages (from coloredlogs->onnxruntime) (10.0)\n",
            "Requirement already satisfied: mpmath<1.4,>=1.1.0 in /usr/local/lib/python3.11/dist-packages (from sympy->onnxruntime) (1.3.0)\n",
            "Requirement already satisfied: smmap<6,>=3.0.1 in /usr/local/lib/python3.11/dist-packages (from gitdb<5,>=4.0.1->gitpython!=3.1.19,<4,>=3.0.7->streamlit) (5.0.2)\n",
            "Requirement already satisfied: MarkupSafe>=2.0 in /usr/local/lib/python3.11/dist-packages (from jinja2->altair<6,>=4.0->streamlit) (3.0.2)\n",
            "Requirement already satisfied: attrs>=22.2.0 in /usr/local/lib/python3.11/dist-packages (from jsonschema>=3.0->altair<6,>=4.0->streamlit) (25.1.0)\n",
            "Requirement already satisfied: jsonschema-specifications>=2023.03.6 in /usr/local/lib/python3.11/dist-packages (from jsonschema>=3.0->altair<6,>=4.0->streamlit) (2024.10.1)\n",
            "Requirement already satisfied: referencing>=0.28.4 in /usr/local/lib/python3.11/dist-packages (from jsonschema>=3.0->altair<6,>=4.0->streamlit) (0.36.2)\n",
            "Requirement already satisfied: rpds-py>=0.7.1 in /usr/local/lib/python3.11/dist-packages (from jsonschema>=3.0->altair<6,>=4.0->streamlit) (0.23.1)\n",
            "Requirement already satisfied: six>=1.5 in /usr/local/lib/python3.11/dist-packages (from python-dateutil>=2.8.2->pandas<3,>=1.4.0->streamlit) (1.17.0)\n"
          ]
        }
      ],
      "source": [
        "!pip install --upgrade openai wikipedia-api serpapi requests gtts moviepy onnx onnxruntime huggingface_hub streamlit amadeus\n"
      ]
    },
    {
      "cell_type": "code",
      "source": [
        "!pip install --upgrade langchain-openai\n",
        "!pip install --upgrade google-search-results\n",
        "\n",
        "!pip install --upgrade moviepy\n"
      ],
      "metadata": {
        "colab": {
          "base_uri": "https://localhost:8080/"
        },
        "collapsed": true,
        "id": "33i_WvNJYZFp",
        "outputId": "249523bb-a369-41b0-c9c1-bc2c69372972"
      },
      "execution_count": 27,
      "outputs": [
        {
          "output_type": "stream",
          "name": "stdout",
          "text": [
            "Requirement already satisfied: langchain-openai in /usr/local/lib/python3.11/dist-packages (0.3.8)\n",
            "Requirement already satisfied: langchain-core<1.0.0,>=0.3.42 in /usr/local/lib/python3.11/dist-packages (from langchain-openai) (0.3.43)\n",
            "Requirement already satisfied: openai<2.0.0,>=1.58.1 in /usr/local/lib/python3.11/dist-packages (from langchain-openai) (1.65.4)\n",
            "Requirement already satisfied: tiktoken<1,>=0.7 in /usr/local/lib/python3.11/dist-packages (from langchain-openai) (0.9.0)\n",
            "Requirement already satisfied: langsmith<0.4,>=0.1.125 in /usr/local/lib/python3.11/dist-packages (from langchain-core<1.0.0,>=0.3.42->langchain-openai) (0.3.11)\n",
            "Requirement already satisfied: tenacity!=8.4.0,<10.0.0,>=8.1.0 in /usr/local/lib/python3.11/dist-packages (from langchain-core<1.0.0,>=0.3.42->langchain-openai) (9.0.0)\n",
            "Requirement already satisfied: jsonpatch<2.0,>=1.33 in /usr/local/lib/python3.11/dist-packages (from langchain-core<1.0.0,>=0.3.42->langchain-openai) (1.33)\n",
            "Requirement already satisfied: PyYAML>=5.3 in /usr/local/lib/python3.11/dist-packages (from langchain-core<1.0.0,>=0.3.42->langchain-openai) (6.0.2)\n",
            "Requirement already satisfied: packaging<25,>=23.2 in /usr/local/lib/python3.11/dist-packages (from langchain-core<1.0.0,>=0.3.42->langchain-openai) (24.2)\n",
            "Requirement already satisfied: typing-extensions>=4.7 in /usr/local/lib/python3.11/dist-packages (from langchain-core<1.0.0,>=0.3.42->langchain-openai) (4.12.2)\n",
            "Requirement already satisfied: pydantic<3.0.0,>=2.5.2 in /usr/local/lib/python3.11/dist-packages (from langchain-core<1.0.0,>=0.3.42->langchain-openai) (2.10.6)\n",
            "Requirement already satisfied: anyio<5,>=3.5.0 in /usr/local/lib/python3.11/dist-packages (from openai<2.0.0,>=1.58.1->langchain-openai) (3.7.1)\n",
            "Requirement already satisfied: distro<2,>=1.7.0 in /usr/local/lib/python3.11/dist-packages (from openai<2.0.0,>=1.58.1->langchain-openai) (1.9.0)\n",
            "Requirement already satisfied: httpx<1,>=0.23.0 in /usr/local/lib/python3.11/dist-packages (from openai<2.0.0,>=1.58.1->langchain-openai) (0.28.1)\n",
            "Requirement already satisfied: jiter<1,>=0.4.0 in /usr/local/lib/python3.11/dist-packages (from openai<2.0.0,>=1.58.1->langchain-openai) (0.8.2)\n",
            "Requirement already satisfied: sniffio in /usr/local/lib/python3.11/dist-packages (from openai<2.0.0,>=1.58.1->langchain-openai) (1.3.1)\n",
            "Requirement already satisfied: tqdm>4 in /usr/local/lib/python3.11/dist-packages (from openai<2.0.0,>=1.58.1->langchain-openai) (4.67.1)\n",
            "Requirement already satisfied: regex>=2022.1.18 in /usr/local/lib/python3.11/dist-packages (from tiktoken<1,>=0.7->langchain-openai) (2024.11.6)\n",
            "Requirement already satisfied: requests>=2.26.0 in /usr/local/lib/python3.11/dist-packages (from tiktoken<1,>=0.7->langchain-openai) (2.32.3)\n",
            "Requirement already satisfied: idna>=2.8 in /usr/local/lib/python3.11/dist-packages (from anyio<5,>=3.5.0->openai<2.0.0,>=1.58.1->langchain-openai) (3.10)\n",
            "Requirement already satisfied: certifi in /usr/local/lib/python3.11/dist-packages (from httpx<1,>=0.23.0->openai<2.0.0,>=1.58.1->langchain-openai) (2025.1.31)\n",
            "Requirement already satisfied: httpcore==1.* in /usr/local/lib/python3.11/dist-packages (from httpx<1,>=0.23.0->openai<2.0.0,>=1.58.1->langchain-openai) (1.0.7)\n",
            "Requirement already satisfied: h11<0.15,>=0.13 in /usr/local/lib/python3.11/dist-packages (from httpcore==1.*->httpx<1,>=0.23.0->openai<2.0.0,>=1.58.1->langchain-openai) (0.14.0)\n",
            "Requirement already satisfied: jsonpointer>=1.9 in /usr/local/lib/python3.11/dist-packages (from jsonpatch<2.0,>=1.33->langchain-core<1.0.0,>=0.3.42->langchain-openai) (3.0.0)\n",
            "Requirement already satisfied: orjson<4.0.0,>=3.9.14 in /usr/local/lib/python3.11/dist-packages (from langsmith<0.4,>=0.1.125->langchain-core<1.0.0,>=0.3.42->langchain-openai) (3.10.15)\n",
            "Requirement already satisfied: requests-toolbelt<2.0.0,>=1.0.0 in /usr/local/lib/python3.11/dist-packages (from langsmith<0.4,>=0.1.125->langchain-core<1.0.0,>=0.3.42->langchain-openai) (1.0.0)\n",
            "Requirement already satisfied: zstandard<0.24.0,>=0.23.0 in /usr/local/lib/python3.11/dist-packages (from langsmith<0.4,>=0.1.125->langchain-core<1.0.0,>=0.3.42->langchain-openai) (0.23.0)\n",
            "Requirement already satisfied: annotated-types>=0.6.0 in /usr/local/lib/python3.11/dist-packages (from pydantic<3.0.0,>=2.5.2->langchain-core<1.0.0,>=0.3.42->langchain-openai) (0.7.0)\n",
            "Requirement already satisfied: pydantic-core==2.27.2 in /usr/local/lib/python3.11/dist-packages (from pydantic<3.0.0,>=2.5.2->langchain-core<1.0.0,>=0.3.42->langchain-openai) (2.27.2)\n",
            "Requirement already satisfied: charset-normalizer<4,>=2 in /usr/local/lib/python3.11/dist-packages (from requests>=2.26.0->tiktoken<1,>=0.7->langchain-openai) (3.4.1)\n",
            "Requirement already satisfied: urllib3<3,>=1.21.1 in /usr/local/lib/python3.11/dist-packages (from requests>=2.26.0->tiktoken<1,>=0.7->langchain-openai) (2.3.0)\n",
            "Requirement already satisfied: google-search-results in /usr/local/lib/python3.11/dist-packages (2.4.2)\n",
            "Requirement already satisfied: requests in /usr/local/lib/python3.11/dist-packages (from google-search-results) (2.32.3)\n",
            "Requirement already satisfied: charset-normalizer<4,>=2 in /usr/local/lib/python3.11/dist-packages (from requests->google-search-results) (3.4.1)\n",
            "Requirement already satisfied: idna<4,>=2.5 in /usr/local/lib/python3.11/dist-packages (from requests->google-search-results) (3.10)\n",
            "Requirement already satisfied: urllib3<3,>=1.21.1 in /usr/local/lib/python3.11/dist-packages (from requests->google-search-results) (2.3.0)\n",
            "Requirement already satisfied: certifi>=2017.4.17 in /usr/local/lib/python3.11/dist-packages (from requests->google-search-results) (2025.1.31)\n",
            "Requirement already satisfied: moviepy in /usr/local/lib/python3.11/dist-packages (2.1.2)\n",
            "Requirement already satisfied: decorator<6.0,>=4.0.2 in /usr/local/lib/python3.11/dist-packages (from moviepy) (4.4.2)\n",
            "Requirement already satisfied: imageio<3.0,>=2.5 in /usr/local/lib/python3.11/dist-packages (from moviepy) (2.37.0)\n",
            "Requirement already satisfied: imageio_ffmpeg>=0.2.0 in /usr/local/lib/python3.11/dist-packages (from moviepy) (0.6.0)\n",
            "Requirement already satisfied: numpy>=1.25.0 in /usr/local/lib/python3.11/dist-packages (from moviepy) (1.26.4)\n",
            "Requirement already satisfied: proglog<=1.0.0 in /usr/local/lib/python3.11/dist-packages (from moviepy) (0.1.10)\n",
            "Requirement already satisfied: python-dotenv>=0.10 in /usr/local/lib/python3.11/dist-packages (from moviepy) (1.0.1)\n",
            "Requirement already satisfied: pillow<11.0,>=9.2.0 in /usr/local/lib/python3.11/dist-packages (from moviepy) (10.4.0)\n",
            "Requirement already satisfied: tqdm in /usr/local/lib/python3.11/dist-packages (from proglog<=1.0.0->moviepy) (4.67.1)\n"
          ]
        }
      ]
    },
    {
      "cell_type": "code",
      "source": [
        "from serpapi import GoogleSearch\n",
        "print(\"✅ GoogleSearch is imported successfully!\")\n"
      ],
      "metadata": {
        "colab": {
          "base_uri": "https://localhost:8080/"
        },
        "id": "iuC9hcgqZAYL",
        "outputId": "6091adbc-e67b-405e-fa08-40b178a04c09"
      },
      "execution_count": 28,
      "outputs": [
        {
          "output_type": "stream",
          "name": "stdout",
          "text": [
            "✅ GoogleSearch is imported successfully!\n"
          ]
        }
      ]
    },
    {
      "cell_type": "code",
      "source": [
        "import openai\n",
        "import wikipediaapi\n",
        "import serpapi\n",
        "import requests\n",
        "import gtts\n",
        "import moviepy\n",
        "import onnx\n",
        "import onnxruntime\n",
        "import huggingface_hub\n",
        "import streamlit\n",
        "import amadeus\n",
        "\n",
        "print(\"✅ All libraries are installed successfully!\")\n"
      ],
      "metadata": {
        "colab": {
          "base_uri": "https://localhost:8080/"
        },
        "id": "YKYQkWp3WWtc",
        "outputId": "6cadad34-0567-4c56-ff09-eae95a2a9239"
      },
      "execution_count": 29,
      "outputs": [
        {
          "output_type": "stream",
          "name": "stdout",
          "text": [
            "✅ All libraries are installed successfully!\n"
          ]
        }
      ]
    },
    {
      "cell_type": "code",
      "source": [
        "\n",
        "# Create necessary files\n",
        "!touch app.py travel_story.py config.py utils.py\n"
      ],
      "metadata": {
        "id": "KJakQKMoW07T"
      },
      "execution_count": 30,
      "outputs": []
    },
    {
      "cell_type": "markdown",
      "source": [
        "# **Write config.py (Store API Keys)**"
      ],
      "metadata": {
        "id": "q52SG4u5XaXs"
      }
    },
    {
      "cell_type": "code",
      "source": [
        "%%writefile config.py\n",
        "import os\n",
        "from amadeus import Client\n",
        "from langchain_openai.chat_models import ChatOpenAI\n",
        "\n",
        "# Set up API keys\n",
        "os.environ[\"OPENAI_API_KEY\"] = \"YOUR_TOKEN\"\n",
        "os.environ[\"AMADEUS_API_KEY\"] = \"YOUR_TOKEN\"\n",
        "os.environ[\"AMADEUS_API_SECRET\"] = \"YOUR_TOKEN\"\n",
        "google_maps_api_key = \"YOUR_TOKEN\"\n",
        "weather_api_key = \"YOUR_TOKEN\"\n",
        "serpapi_key = \"YOUR_TOKEN\"\n",
        "huggingface_token = \"YOUR_TOKEN\"\n",
        "\n",
        "amadeus_api_key = os.environ[\"AMADEUS_API_KEY\"]\n",
        "amadeus_api_secret = os.environ[\"AMADEUS_API_SECRET\"]\n",
        "\n",
        "\n",
        "# ✅ Initialize Amadeus API client\n",
        "amadeus = Client(client_id=os.getenv(\"AMADEUS_API_KEY\"), client_secret=os.getenv(\"AMADEUS_API_SECRET\"))\n",
        "\n",
        "# ✅ Initialize OpenAI GPT-4 Model\n",
        "llm = ChatOpenAI(model=\"gpt-4\", temperature=0, openai_api_key=os.getenv(\"OPENAI_API_KEY\"))\n"
      ],
      "metadata": {
        "colab": {
          "base_uri": "https://localhost:8080/"
        },
        "id": "Q2yqfNyiXWqv",
        "outputId": "c6a179d5-a4d1-471d-ad4e-7d721cf2a1bf"
      },
      "execution_count": 42,
      "outputs": [
        {
          "output_type": "stream",
          "name": "stdout",
          "text": [
            "Overwriting config.py\n"
          ]
        }
      ]
    },
    {
      "cell_type": "code",
      "source": [
        "try:\n",
        "    from config import google_maps_api_key, serpapi_key, weather_api_key\n",
        "    print(\"✅ Successfully imported API keys from config.py\")\n",
        "    print(f\"Google Maps API Key: {google_maps_api_key[:5]}******\")  # Hide full key for security\n",
        "    print(f\"SerpAPI Key: {serpapi_key[:5]}******\")\n",
        "    print(f\"Weather API Key: {weather_api_key[:5]}******\")\n",
        "except ModuleNotFoundError:\n",
        "    print(\"❌ ERROR: 'config.py' not found. Ensure the file exists in the same directory.\")\n",
        "except ImportError:\n",
        "    print(\"❌ ERROR: Could not import variables from 'config.py'. Check variable names.\")\n"
      ],
      "metadata": {
        "colab": {
          "base_uri": "https://localhost:8080/"
        },
        "id": "NxxkU3bPivC4",
        "outputId": "7daee847-6ece-4fd3-c46d-78764497cbad"
      },
      "execution_count": 43,
      "outputs": [
        {
          "output_type": "stream",
          "name": "stdout",
          "text": [
            "✅ Successfully imported API keys from config.py\n",
            "Google Maps API Key: AIzaS******\n",
            "SerpAPI Key: c71f9******\n",
            "Weather API Key: 8af06******\n"
          ]
        }
      ]
    },
    {
      "cell_type": "markdown",
      "source": [
        "# **Write utils.py (Helper Functions for API Calls)**"
      ],
      "metadata": {
        "id": "IAIbWp1GYn_U"
      }
    },
    {
      "cell_type": "code",
      "source": [
        "%%writefile utils.py\n",
        "\n",
        "import requests\n",
        "from config import google_maps_api_key, weather_api_key, amadeus_api_key, amadeus_api_secret\n",
        "\n",
        "# ✅ Function to fetch latitude & longitude\n",
        "def get_lat_lng(location):\n",
        "    url = \"https://maps.googleapis.com/maps/api/geocode/json\"\n",
        "    params = {\"address\": location, \"key\": google_maps_api_key}\n",
        "    response = requests.get(url, params=params).json()\n",
        "    if \"results\" in response and response[\"results\"]:\n",
        "        location_data = response[\"results\"][0][\"geometry\"][\"location\"]\n",
        "        return location_data[\"lat\"], location_data[\"lng\"]\n",
        "    return None, None\n",
        "\n",
        "# ✅ Function to fetch top tourist attractions dynamically\n",
        "def fetch_tourist_attractions(location, top_n=5):\n",
        "    lat, lng = get_lat_lng(location)\n",
        "    if not lat or not lng:\n",
        "        return \"Could not determine the exact location.\"\n",
        "\n",
        "    url = \"https://maps.googleapis.com/maps/api/place/nearbysearch/json\"\n",
        "    params = {\"location\": f\"{lat},{lng}\", \"radius\": 10000, \"type\": \"tourist_attraction\", \"key\": google_maps_api_key}\n",
        "\n",
        "    response = requests.get(url, params=params).json()\n",
        "    if \"results\" in response:\n",
        "        return \"\\n\".join(\n",
        "            [f\"🏛 {t['name']} ({t.get('rating', 'No rating')}⭐)\" for t in response[\"results\"][:top_n]]\n",
        "        )\n",
        "    return \"No tourist attractions found.\"\n",
        "\n",
        "\n",
        "\n",
        "# ✅ Function to fetch restaurants dynamically\n",
        "def fetch_restaurants(location, purpose, top_n=5):\n",
        "    lat, lng = get_lat_lng(location)\n",
        "    if not lat or not lng:\n",
        "        return \"Could not determine the exact location.\"\n",
        "\n",
        "    keyword = {\n",
        "        \"Leisure\": \"casual dining\",\n",
        "        \"Business\": \"fine dining\",\n",
        "        \"Family\": \"family-friendly\",\n",
        "        \"Adventure\": \"unique cuisine\",\n",
        "        \"Romantic\": \"romantic restaurant\"\n",
        "    }.get(purpose, \"restaurant\")\n",
        "\n",
        "    url = \"https://maps.googleapis.com/maps/api/place/nearbysearch/json\"\n",
        "    params = {\"location\": f\"{lat},{lng}\", \"radius\": 5000, \"type\": \"restaurant\", \"keyword\": keyword, \"key\": google_maps_api_key}\n",
        "\n",
        "    response = requests.get(url, params=params).json()\n",
        "    if \"results\" in response:\n",
        "        return \"\\n\".join(\n",
        "            [f\"🍽 {r['name']} ({r.get('rating', 'No rating')}⭐)\" for r in response[\"results\"][:top_n]]\n",
        "        )\n",
        "    return \"No restaurants found.\"\n",
        "\n",
        "# ✅ Function to fetch real-time weather details\n",
        "def fetch_weather(city):\n",
        "    url = \"http://api.openweathermap.org/data/2.5/weather\"\n",
        "    params = {\"q\": city, \"appid\": weather_api_key, \"units\": \"metric\"}\n",
        "    response = requests.get(url, params=params).json()\n",
        "    if \"weather\" in response and \"main\" in response:\n",
        "        return f\"🌤 {response['weather'][0]['description'].capitalize()}, {response['main']['temp']}°C\"\n",
        "    return \"Weather data not available.\"\n",
        "\n",
        "# ✅ Function to fetch 7-day weather forecast\n",
        "def fetch_weather_forecast(city):\n",
        "    url = \"http://api.openweathermap.org/data/2.5/forecast\"\n",
        "    params = {\"q\": city, \"appid\": weather_api_key, \"units\": \"metric\"}\n",
        "    response = requests.get(url, params=params).json()\n",
        "\n",
        "    if \"list\" in response:\n",
        "        forecast_data = response[\"list\"][:7]\n",
        "        forecast = \"\\n\".join(\n",
        "            [f\"📅 {entry['dt_txt']} - {entry['weather'][0]['description'].capitalize()}, {entry['main']['temp']}°C\"\n",
        "             for entry in forecast_data]\n",
        "        )\n",
        "        return forecast\n",
        "    return \"Weather forecast data not available.\"\n",
        "\n",
        "\n",
        "# ✅ Function to fetch flight details with improved error handling\n",
        "def fetch_flight_details(origin, destination, departure_date):\n",
        "    try:\n",
        "        response = requests.get(f\"https://api.flightapi.com/{origin}/{destination}/{departure_date}\", headers={\"API-Key\": amadeus_api_key})\n",
        "        if response.status_code == 200:\n",
        "            return response.json()\n",
        "        return \"Flight details unavailable. Please try again later.\"\n",
        "    except Exception as e:\n",
        "        return f\"Error retrieving flight details: {str(e)}\"\n",
        "\n",
        "# ✅ Function to fetch a destination image with fallback options\n",
        "def fetch_destination_image(destination):\n",
        "    image_sources = [\n",
        "        f\"https://source.unsplash.com/600x400/?{destination}\",\n",
        "        f\"https://source.unsplash.com/600x400/?travel,{destination}\"\n",
        "    ]\n",
        "\n",
        "    for url in image_sources:\n",
        "        response = requests.get(url, stream=True)\n",
        "        if response.status_code == 200:\n",
        "            return url\n",
        "    return \"Image unavailable. Please try again later.\"\n",
        "\n",
        "# ✅ Function to fetch nearby hotels dynamically\n",
        "def fetch_hotels(location, top_n=5):\n",
        "    lat, lng = get_lat_lng(location)\n",
        "    if not lat or not lng:\n",
        "        return \"Could not determine the exact location.\"\n",
        "\n",
        "    url = \"https://maps.googleapis.com/maps/api/place/nearbysearch/json\"\n",
        "    params = {\"location\": f\"{lat},{lng}\", \"radius\": 5000, \"type\": \"lodging\", \"key\": google_maps_api_key}\n",
        "\n",
        "    response = requests.get(url, params=params).json()\n",
        "    if \"results\" in response:\n",
        "        return \"\\n\".join(\n",
        "            [f\"🏨 {h['name']} ({h.get('rating', 'No rating')}⭐)\" for h in response[\"results\"][:top_n]]\n",
        "        )\n",
        "    return \"No hotels found.\"\n",
        "\n",
        "# ✅ Function to fetch live currency exchange rate\n",
        "def fetch_currency_exchange_rate(base_currency, target_currency):\n",
        "    url = f\"https://api.exchangerate-api.com/v4/latest/{base_currency}\"\n",
        "    response = requests.get(url).json()\n",
        "    if \"rates\" in response and target_currency in response[\"rates\"]:\n",
        "        return f\"💰 1 {base_currency} = {response['rates'][target_currency]} {target_currency}\"\n",
        "    return \"Exchange rate data not available.\"\n",
        "\n",
        "# ✅ Function to fetch top travel news & insights\n",
        "def fetch_travel_news():\n",
        "    url = \"https://serpapi.com/search.json\"\n",
        "    params = {\"q\": \"latest travel trends\", \"api_key\": google_maps_api_key}\n",
        "    response = requests.get(url, params=params).json()\n",
        "\n",
        "    if \"organic_results\" in response:\n",
        "        return \"\\n\".join(\n",
        "            [f\"📰 {article['title']} - {article['link']}\" for article in response[\"organic_results\"][:5]]\n",
        "        )\n",
        "    return \"No travel news available.\"\n",
        "\n"
      ],
      "metadata": {
        "colab": {
          "base_uri": "https://localhost:8080/"
        },
        "id": "jOZmyouRX3O1",
        "outputId": "12633a88-4e9b-4064-ea62-f042cba76540"
      },
      "execution_count": 52,
      "outputs": [
        {
          "output_type": "stream",
          "name": "stdout",
          "text": [
            "Overwriting utils.py\n"
          ]
        }
      ]
    },
    {
      "cell_type": "markdown",
      "source": [
        "# **Write travel_story.py (AI-Powered Travel Story & Video Generation)**"
      ],
      "metadata": {
        "id": "0LGfRny-Z5gc"
      }
    },
    {
      "cell_type": "code",
      "source": [
        "%%writefile travel_story.py\n",
        "\n",
        "import requests\n",
        "import wikipediaapi\n",
        "from gtts import gTTS\n",
        "from moviepy import *\n",
        "from config import llm\n",
        "from utils import fetch_weather, fetch_tourist_attractions, fetch_flight_details, fetch_restaurants, fetch_hotels, fetch_currency_exchange_rate, fetch_travel_news\n",
        "\n",
        "\n",
        "# ✅ Wikipedia API Setup\n",
        "wiki = wikipediaapi.Wikipedia(user_agent=\"WanderTales/1.0\", language=\"en\")\n",
        "\n",
        "# ✅ Function to fetch Wikipedia summary dynamically\n",
        "def get_wikipedia_summary(place):\n",
        "    page = wiki.page(place)\n",
        "    return page.summary[:500] if page.exists() else \"No Wikipedia summary found.\"\n",
        "\n",
        "# ✅ Function to generate a travel story based on purpose and dates\n",
        "def generate_travel_story(destination, purpose, start_date, end_date):\n",
        "    wikipedia_info = get_wikipedia_summary(destination)\n",
        "\n",
        "    purpose_templates = {\n",
        "        \"leisure\": f\"You are about to explore {destination} on a relaxing leisure trip from {start_date} to {end_date}. Describe your experiences as you visit famous landmarks, stroll through parks, and enjoy the peaceful atmosphere.\",\n",
        "        \"food\": f\"As a food lover, you're in {destination} from {start_date} to {end_date} to explore its delicious street food, high-end restaurants, and unique local flavors. Describe the dishes you'll taste, the bustling food markets, and the famous cafés you’ll visit.\",\n",
        "        \"adventure\": f\"You're visiting {destination} for an adrenaline-filled adventure from {start_date} to {end_date}. Describe thrilling activities such as hiking, surfing, skydiving, and other outdoor experiences in the area.\",\n",
        "        \"business\": f\"You're traveling to {destination} for a business trip from {start_date} to {end_date}. Describe your meetings, networking events, and the city's corporate atmosphere. Also, mention any work-life balance experiences, like after-hours dining or sightseeing.\",\n",
        "        \"romantic\": f\"You're in {destination} for a romantic getaway from {start_date} to {end_date}. Describe the intimate dinners, scenic walks, and breathtaking sunset views you'll experience with your partner.\",\n",
        "        \"spiritual\": f\"You're visiting {destination} for a spiritual retreat from {start_date} to {end_date}. Describe the meditation spots, temples, churches, and peaceful landscapes where you'll find tranquility and reflection.\",\n",
        "        \"family\": f\"You're on a family trip to {destination} from {start_date} to {end_date}, filled with fun and bonding moments. Describe the amusement parks, kid-friendly attractions, and the joy of exploring new places together.\"\n",
        "    }\n",
        "\n",
        "    purpose_prompt = purpose_templates.get(purpose, purpose_templates[\"leisure\"])\n",
        "\n",
        "    full_prompt = f\"\"\"\n",
        "    {purpose_prompt}\n",
        "\n",
        "    Be immersive, engaging, and detailed. Use vivid descriptions and include unique aspects of {destination}.\n",
        "\n",
        "    Wikipedia Summary: {wikipedia_info}\n",
        "\n",
        "    Travel Story:\n",
        "    \"\"\"\n",
        "\n",
        "    try:\n",
        "        response = llm.invoke(full_prompt)\n",
        "        return response.content if hasattr(response, 'content') else str(response)\n",
        "    except Exception as e:\n",
        "        return f\"Error: OpenAI API call failed. Check your model name and API key: {str(e)}\"\n",
        "\n",
        "# ✅ Function to generate a voice-over for the travel story\n",
        "def generate_voiceover(text, output_audio=\"travel_narration.mp3\"):\n",
        "    try:\n",
        "        tts = gTTS(text=text, lang=\"en\", slow=False)\n",
        "        tts.save(output_audio)\n",
        "        return output_audio\n",
        "    except Exception as e:\n",
        "        return f\"Error generating voiceover: {str(e)}\"\n",
        "\n",
        "# ✅ Function to create a dynamic travel video with AI narration\n",
        "def create_travel_video(image_urls, narration_audio, output_video=\"travel_story.mp4\"):\n",
        "    try:\n",
        "        if not os.path.exists(narration_audio):\n",
        "            raise FileNotFoundError(f\"Audio file '{narration_audio}' not found.\")\n",
        "\n",
        "        audio_clip = AudioFileClip(narration_audio)\n",
        "        image_duration = max(audio_clip.duration / max(len(image_urls), 1), 2)  # Ensure minimum duration per image\n",
        "\n",
        "        image_clips = []\n",
        "        for url in image_urls:\n",
        "            try:\n",
        "                response = requests.get(url, stream=True)\n",
        "                if response.status_code == 200:\n",
        "                    image_clips.append(ImageClip(response.raw, duration=image_duration).set_fps(24).resize(1.05))\n",
        "            except Exception as img_err:\n",
        "                print(f\"Skipping image due to error: {img_err}\")\n",
        "\n",
        "        if not image_clips:\n",
        "            raise ValueError(\"No valid images retrieved for video generation.\")\n",
        "\n",
        "        video_clip = concatenate_videoclips(image_clips, method=\"compose\").set_audio(audio_clip)\n",
        "        video_clip.write_videofile(output_video, codec=\"libx264\", fps=24, audio_codec=\"aac\")\n",
        "\n",
        "        return output_video\n",
        "    except Exception as e:\n",
        "        return f\"Error creating video: {str(e)}\"\n",
        "\n",
        "\n",
        "# ✅ Testing the script (Example Execution)\n",
        "if __name__ == \"__main__\":\n",
        "    destination = \"Paris\"\n",
        "    purpose = \"Leisure\"\n",
        "    start_date = \"2025-04-10\"\n",
        "    end_date = \"2025-04-20\"\n",
        "\n",
        "    print(\"🔄 Fetching data and generating travel story...\")\n",
        "    travel_story_text = generate_travel_story(destination, purpose, start_date, end_date)\n",
        "    print(f\"📖 Travel Story:\\n{travel_story_text}\")\n",
        "\n",
        "    print(\"🎤 Generating voiceover...\")\n",
        "    narration_file = generate_voiceover(travel_story_text)\n",
        "\n",
        "    print(\"🎥 Creating travel video...\")\n",
        "    travel_images = [\"https://source.unsplash.com/600x400/?Paris\", \"https://source.unsplash.com/600x400/?EiffelTower\"]\n",
        "    travel_video = create_travel_video(travel_images, narration_file)\n",
        "\n",
        "    print(f\"✅ Travel video saved as {travel_video}\")\n"
      ],
      "metadata": {
        "colab": {
          "base_uri": "https://localhost:8080/"
        },
        "id": "rtPSz65JZXj2",
        "outputId": "0e8c03fc-8877-457b-f28b-744b06e5b37c"
      },
      "execution_count": 53,
      "outputs": [
        {
          "output_type": "stream",
          "name": "stdout",
          "text": [
            "Overwriting travel_story.py\n"
          ]
        }
      ]
    },
    {
      "cell_type": "markdown",
      "source": [
        "# **Write app.py (Streamlit UI)**"
      ],
      "metadata": {
        "id": "O_6GvknqdZt0"
      }
    },
    {
      "cell_type": "code",
      "source": [
        "%%writefile app.py\n",
        "\n",
        "import streamlit as st\n",
        "from travel_story import generate_travel_story, generate_voiceover, create_travel_video  # Correct import\n",
        "from utils import fetch_weather, fetch_tourist_attractions, fetch_flight_details, fetch_restaurants, fetch_hotels\n",
        "import requests\n",
        "from PIL import Image\n",
        "from io import BytesIO\n",
        "\n",
        "st.set_page_config(page_title=\"✈️ AI Travel Planner\", layout=\"wide\")\n",
        "\n",
        "st.title(\"✈️ AI Travel Planner 🏨\")\n",
        "\n",
        "st.sidebar.title(\"Plan Your Trip 🗺\")\n",
        "destination = st.sidebar.text_input(\"Enter Destination\", \"Paris\")\n",
        "start_date = st.sidebar.date_input(\"Start Date\")\n",
        "end_date = st.sidebar.date_input(\"End Date\")\n",
        "purpose = st.sidebar.selectbox(\"Purpose of Visit\", [\"Leisure\", \"Business\", \"Adventure\", \"Romantic\", \"Family\"])\n",
        "\n",
        "if st.sidebar.button(\"Generate Travel Story\"):\n",
        "    with st.spinner(\"🔄 Generating AI travel story...\"):\n",
        "        try:\n",
        "            travel_story_text = generate_travel_story(destination, purpose, start_date, end_date)\n",
        "        except AttributeError as e:\n",
        "            st.error(\"⚠️ AI generation failed: Possible incorrect OpenAI API usage. Check API setup.\")\n",
        "            travel_story_text = \"❌ Error generating AI travel story. Please try again later.\"\n",
        "\n",
        "    st.subheader(\"📖 Your AI-Generated Travel Story\")\n",
        "    st.write(travel_story_text)\n",
        "\n",
        "    st.subheader(\"🌦 Weather Forecast\")\n",
        "    st.write(fetch_weather(destination))\n",
        "\n",
        "    st.subheader(\"🏛 Tourist Attractions\")\n",
        "    st.write(fetch_tourist_attractions(destination))\n",
        "\n",
        "    st.subheader(\"🍽 Recommended Restaurants\")\n",
        "    st.write(fetch_restaurants(destination, purpose))\n",
        "\n",
        "    st.subheader(\"🏨 Hotel Recommendations\")\n",
        "    st.write(fetch_hotels(destination))\n",
        "\n",
        "    st.subheader(\"✈️ Flight Details\")\n",
        "    st.write(fetch_flight_details(\"JFK\", destination, start_date))\n",
        "\n",
        "    st.subheader(\"🖼 View Destination Image\")\n",
        "    image_url = f\"https://source.unsplash.com/600x400/?{destination}\"  # Fetch image dynamically\n",
        "    response = requests.get(image_url)\n",
        "    if response.status_code == 200:\n",
        "        image = Image.open(BytesIO(response.content))\n",
        "        st.image(image, caption=f\"A view of {destination}\", use_column_width=True)\n",
        "    else:\n",
        "        st.warning(\"❌ Unable to fetch image. Try again later.\")\n",
        "\n",
        "    st.subheader(\"🎤 Generating Voiceover...\")\n",
        "    narration_audio = generate_voiceover(travel_story_text)\n",
        "    st.audio(narration_audio)\n",
        "\n",
        "    st.subheader(\"🎥 Creating AI Travel Video...\")\n",
        "    travel_images = [image_url]\n",
        "    travel_video = create_travel_video(travel_images, narration_audio)\n",
        "    st.video(travel_video)\n",
        "\n",
        "    st.success(\"✅ Travel Story & AI Narration Generated Successfully!\")"
      ],
      "metadata": {
        "colab": {
          "base_uri": "https://localhost:8080/"
        },
        "id": "qFv-DW57bNRn",
        "outputId": "5b617668-06dd-4ce4-fbf2-1eaa7988fee5"
      },
      "execution_count": 54,
      "outputs": [
        {
          "output_type": "stream",
          "name": "stdout",
          "text": [
            "Overwriting app.py\n"
          ]
        }
      ]
    },
    {
      "cell_type": "code",
      "source": [
        "%%writefile verify_imports.py\n",
        "\n",
        "import os\n",
        "\n",
        "# ✅ Check if all necessary files exist\n",
        "required_files = [\"config.py\", \"utils.py\", \"travel_story.py\", \"app.py\"]\n",
        "missing_files = [file for file in required_files if not os.path.exists(file)]\n",
        "\n",
        "if missing_files:\n",
        "    print(f\"❌ ERROR: Missing files: {missing_files}. Ensure all required files are present.\")\n",
        "else:\n",
        "    print(\"✅ All necessary files exist.\")\n",
        "\n",
        "# ✅ Verify `config.py` imports\n",
        "try:\n",
        "    from config import google_maps_api_key, serpapi_key, weather_api_key\n",
        "    print(\"✅ Successfully imported API keys from config.py\")\n",
        "    print(f\"Google Maps API Key: {google_maps_api_key[:5]}******\")\n",
        "    print(f\"SerpAPI Key: {serpapi_key[:5]}******\")\n",
        "    print(f\"Weather API Key: {weather_api_key[:5]}******\")\n",
        "except ModuleNotFoundError:\n",
        "    print(\"❌ ERROR: 'config.py' not found.\")\n",
        "except ImportError:\n",
        "    print(\"❌ ERROR: Could not import variables from 'config.py'.\")\n",
        "\n",
        "# ✅ Verify `utils.py` imports\n",
        "try:\n",
        "    from utils import get_lat_lng, fetch_restaurants, fetch_weather\n",
        "    print(\"✅ Successfully imported functions from utils.py\")\n",
        "    print(f\"get_lat_lng function exists: {callable(get_lat_lng)}\")\n",
        "    print(f\"fetch_restaurants function exists: {callable(fetch_restaurants)}\")\n",
        "    print(f\"fetch_weather function exists: {callable(fetch_weather)}\")\n",
        "except ModuleNotFoundError:\n",
        "    print(\"❌ ERROR: 'utils.py' not found.\")\n",
        "except ImportError:\n",
        "    print(\"❌ ERROR: Could not import functions from 'utils.py'.\")\n",
        "\n",
        "# ✅ Verify `purpose.py` imports\n",
        "try:\n",
        "    from travel_story import generate_travel_story, generate_voiceover, create_travel_video\n",
        "    print(\"✅ Successfully imported functions from purpose.py\")\n",
        "    print(f\"generate_travel_story function exists: {callable(generate_travel_story)}\")\n",
        "    print(f\"generate_voiceover function exists: {callable(generate_voiceover)}\")\n",
        "    print(f\"create_travel_video function exists: {callable(create_travel_video)}\")\n",
        "except ModuleNotFoundError:\n",
        "    print(\"❌ ERROR: 'purpose.py' not found.\")\n",
        "except ImportError:\n",
        "    print(\"❌ ERROR: Could not import functions from 'purpose.py'.\")\n",
        "\n",
        "# ✅ Verify `app.py` existence\n",
        "if os.path.exists(\"app.py\"):\n",
        "    print(\"✅ 'app.py' exists and is ready to run.\")\n",
        "else:\n",
        "    print(\"❌ ERROR: 'app.py' is missing.\")\n"
      ],
      "metadata": {
        "colab": {
          "base_uri": "https://localhost:8080/"
        },
        "id": "8hKk65nvjqJx",
        "outputId": "bc6acd6a-8904-422d-ffaf-b88767f5891f"
      },
      "execution_count": 56,
      "outputs": [
        {
          "output_type": "stream",
          "name": "stdout",
          "text": [
            "Overwriting verify_imports.py\n"
          ]
        }
      ]
    },
    {
      "cell_type": "code",
      "source": [
        "!python verify_imports.py\n"
      ],
      "metadata": {
        "colab": {
          "base_uri": "https://localhost:8080/"
        },
        "id": "JpLSOjhukANO",
        "outputId": "a167d245-aa34-4ddf-ba14-86bc67ae8621"
      },
      "execution_count": 57,
      "outputs": [
        {
          "output_type": "stream",
          "name": "stdout",
          "text": [
            "✅ All necessary files exist.\n",
            "✅ Successfully imported API keys from config.py\n",
            "Google Maps API Key: AIzaS******\n",
            "SerpAPI Key: c71f9******\n",
            "Weather API Key: 8af06******\n",
            "✅ Successfully imported functions from utils.py\n",
            "get_lat_lng function exists: True\n",
            "fetch_restaurants function exists: True\n",
            "fetch_weather function exists: True\n",
            "✅ Successfully imported functions from purpose.py\n",
            "generate_travel_story function exists: True\n",
            "generate_voiceover function exists: True\n",
            "create_travel_video function exists: True\n",
            "✅ 'app.py' exists and is ready to run.\n"
          ]
        }
      ]
    },
    {
      "cell_type": "code",
      "source": [
        "!pip install pyngrok\n",
        "\n",
        "from pyngrok import ngrok\n",
        "!kill $(pgrep -f ngrok)\n",
        "\n",
        "# Run Streamlit app\n",
        "!streamlit run app.py &>/content/logs.txt &\n",
        "# Set up ngrok\n",
        "!ngrok authtoken 2suOuuxs3zjz3pWQWDl9dQZPTLR_5FKMVwXpnfPJDKgESoGpK\n",
        "\n",
        "public_url = ngrok.connect(8501)\n",
        "print(f\"Public URL: {public_url}\")"
      ],
      "metadata": {
        "colab": {
          "base_uri": "https://localhost:8080/"
        },
        "id": "TNg7J9YqcYLO",
        "outputId": "ebe2df3e-4299-40fc-e23e-23e0a2700e08"
      },
      "execution_count": 58,
      "outputs": [
        {
          "output_type": "stream",
          "name": "stdout",
          "text": [
            "Requirement already satisfied: pyngrok in /usr/local/lib/python3.11/dist-packages (7.2.3)\n",
            "Requirement already satisfied: PyYAML>=5.1 in /usr/local/lib/python3.11/dist-packages (from pyngrok) (6.0.2)\n",
            "^C\n",
            "Authtoken saved to configuration file: /root/.config/ngrok/ngrok.yml\n",
            "Public URL: NgrokTunnel: \"https://9112-34-106-31-156.ngrok-free.app\" -> \"http://localhost:8501\"\n"
          ]
        }
      ]
    },
    {
      "cell_type": "code",
      "source": [
        "import os\n",
        "print(os.listdir())  # List all files in the working directory\n"
      ],
      "metadata": {
        "colab": {
          "base_uri": "https://localhost:8080/"
        },
        "id": "0-YQIMNcddOV",
        "outputId": "8b7ad451-6f6f-4be7-8241-8765028d7d4f"
      },
      "execution_count": 39,
      "outputs": [
        {
          "output_type": "stream",
          "name": "stdout",
          "text": [
            "['.config', 'verify_imports.py', 'travel_story.py', 'logs.txt', 'utils.py', 'app.py', 'config.py', '__pycache__', 'travel_narration.mp3', 'sample_data']\n"
          ]
        }
      ]
    },
    {
      "cell_type": "code",
      "source": [
        "# Import the necessary function\n",
        "from travel_story import generate_travel_story\n",
        "\n",
        "# ✅ Test AI storytelling generation\n",
        "print(\"\\n📖 AI-Generated Travel Story:\")\n",
        "travel_story = generate_travel_story(\"Paris\", \"Leisure\", \"2025-04-10\", \"2025-04-20\")\n",
        "print(travel_story)\n"
      ],
      "metadata": {
        "colab": {
          "base_uri": "https://localhost:8080/",
          "height": 374
        },
        "id": "O6vwKmLzWpwm",
        "outputId": "d2dd5e91-111e-416d-8e12-a94dee150b7e"
      },
      "execution_count": 41,
      "outputs": [
        {
          "output_type": "stream",
          "name": "stdout",
          "text": [
            "\n",
            "📖 AI-Generated Travel Story:\n"
          ]
        },
        {
          "output_type": "error",
          "ename": "AttributeError",
          "evalue": "'AIMessage' object has no attribute 'strip'",
          "traceback": [
            "\u001b[0;31m---------------------------------------------------------------------------\u001b[0m",
            "\u001b[0;31mAttributeError\u001b[0m                            Traceback (most recent call last)",
            "\u001b[0;32m<ipython-input-41-4431bc539552>\u001b[0m in \u001b[0;36m<cell line: 0>\u001b[0;34m()\u001b[0m\n\u001b[1;32m      4\u001b[0m \u001b[0;31m# ✅ Test AI storytelling generation\u001b[0m\u001b[0;34m\u001b[0m\u001b[0;34m\u001b[0m\u001b[0m\n\u001b[1;32m      5\u001b[0m \u001b[0mprint\u001b[0m\u001b[0;34m(\u001b[0m\u001b[0;34m\"\\n📖 AI-Generated Travel Story:\"\u001b[0m\u001b[0;34m)\u001b[0m\u001b[0;34m\u001b[0m\u001b[0;34m\u001b[0m\u001b[0m\n\u001b[0;32m----> 6\u001b[0;31m \u001b[0mtravel_story\u001b[0m \u001b[0;34m=\u001b[0m \u001b[0mgenerate_travel_story\u001b[0m\u001b[0;34m(\u001b[0m\u001b[0;34m\"Paris\"\u001b[0m\u001b[0;34m,\u001b[0m \u001b[0;34m\"Leisure\"\u001b[0m\u001b[0;34m,\u001b[0m \u001b[0;34m\"2025-04-10\"\u001b[0m\u001b[0;34m,\u001b[0m \u001b[0;34m\"2025-04-20\"\u001b[0m\u001b[0;34m)\u001b[0m\u001b[0;34m\u001b[0m\u001b[0;34m\u001b[0m\u001b[0m\n\u001b[0m\u001b[1;32m      7\u001b[0m \u001b[0mprint\u001b[0m\u001b[0;34m(\u001b[0m\u001b[0mtravel_story\u001b[0m\u001b[0;34m)\u001b[0m\u001b[0;34m\u001b[0m\u001b[0;34m\u001b[0m\u001b[0m\n",
            "\u001b[0;32m/content/travel_story.py\u001b[0m in \u001b[0;36mgenerate_travel_story\u001b[0;34m(destination, purpose, start_date, end_date)\u001b[0m\n\u001b[1;32m     60\u001b[0m \u001b[0;32mdef\u001b[0m \u001b[0mcreate_travel_video\u001b[0m\u001b[0;34m(\u001b[0m\u001b[0mimage_urls\u001b[0m\u001b[0;34m,\u001b[0m \u001b[0mnarration_audio\u001b[0m\u001b[0;34m,\u001b[0m \u001b[0moutput_video\u001b[0m\u001b[0;34m=\u001b[0m\u001b[0;34m\"travel_story.mp4\"\u001b[0m\u001b[0;34m)\u001b[0m\u001b[0;34m:\u001b[0m\u001b[0;34m\u001b[0m\u001b[0;34m\u001b[0m\u001b[0m\n\u001b[1;32m     61\u001b[0m     \u001b[0;32mtry\u001b[0m\u001b[0;34m:\u001b[0m\u001b[0;34m\u001b[0m\u001b[0;34m\u001b[0m\u001b[0m\n\u001b[0;32m---> 62\u001b[0;31m         \u001b[0;32mif\u001b[0m \u001b[0;32mnot\u001b[0m \u001b[0mos\u001b[0m\u001b[0;34m.\u001b[0m\u001b[0mpath\u001b[0m\u001b[0;34m.\u001b[0m\u001b[0mexists\u001b[0m\u001b[0;34m(\u001b[0m\u001b[0mnarration_audio\u001b[0m\u001b[0;34m)\u001b[0m\u001b[0;34m:\u001b[0m\u001b[0;34m\u001b[0m\u001b[0;34m\u001b[0m\u001b[0m\n\u001b[0m\u001b[1;32m     63\u001b[0m             \u001b[0;32mraise\u001b[0m \u001b[0mFileNotFoundError\u001b[0m\u001b[0;34m(\u001b[0m\u001b[0;34mf\"Audio file '{narration_audio}' not found.\"\u001b[0m\u001b[0;34m)\u001b[0m\u001b[0;34m\u001b[0m\u001b[0;34m\u001b[0m\u001b[0m\n\u001b[1;32m     64\u001b[0m \u001b[0;34m\u001b[0m\u001b[0m\n",
            "\u001b[0;32m/usr/local/lib/python3.11/dist-packages/pydantic/main.py\u001b[0m in \u001b[0;36m__getattr__\u001b[0;34m(self, item)\u001b[0m\n\u001b[1;32m    889\u001b[0m                     \u001b[0;32melse\u001b[0m\u001b[0;34m:\u001b[0m\u001b[0;34m\u001b[0m\u001b[0;34m\u001b[0m\u001b[0m\n\u001b[1;32m    890\u001b[0m                         \u001b[0;31m# this is the current error\u001b[0m\u001b[0;34m\u001b[0m\u001b[0;34m\u001b[0m\u001b[0m\n\u001b[0;32m--> 891\u001b[0;31m                         \u001b[0;32mraise\u001b[0m \u001b[0mAttributeError\u001b[0m\u001b[0;34m(\u001b[0m\u001b[0;34mf'{type(self).__name__!r} object has no attribute {item!r}'\u001b[0m\u001b[0;34m)\u001b[0m\u001b[0;34m\u001b[0m\u001b[0;34m\u001b[0m\u001b[0m\n\u001b[0m\u001b[1;32m    892\u001b[0m \u001b[0;34m\u001b[0m\u001b[0m\n\u001b[1;32m    893\u001b[0m         \u001b[0;32mdef\u001b[0m \u001b[0m__setattr__\u001b[0m\u001b[0;34m(\u001b[0m\u001b[0mself\u001b[0m\u001b[0;34m,\u001b[0m \u001b[0mname\u001b[0m\u001b[0;34m:\u001b[0m \u001b[0mstr\u001b[0m\u001b[0;34m,\u001b[0m \u001b[0mvalue\u001b[0m\u001b[0;34m:\u001b[0m \u001b[0mAny\u001b[0m\u001b[0;34m)\u001b[0m \u001b[0;34m->\u001b[0m \u001b[0;32mNone\u001b[0m\u001b[0;34m:\u001b[0m\u001b[0;34m\u001b[0m\u001b[0;34m\u001b[0m\u001b[0m\n",
            "\u001b[0;31mAttributeError\u001b[0m: 'AIMessage' object has no attribute 'strip'"
          ]
        }
      ]
    },
    {
      "cell_type": "code",
      "source": [
        "from travel_story import generate_travel_story, generate_voiceover, create_travel_video\n",
        "\n",
        "generate_travel_story(\"Paris\", \"Leisure\", \"2025-04-10\", \"2025-04-20\")"
      ],
      "metadata": {
        "id": "M8cYvVGbZevP"
      },
      "execution_count": null,
      "outputs": []
    },
    {
      "cell_type": "code",
      "source": [
        "from travel_story import generate_travel_story, generate_voiceover, create_travel_video\n",
        "from utils import fetch_weather, fetch_flight_details, fetch_hotels, fetch_tourist_attractions\n",
        "\n",
        "# ✅ Test real-time data retrieval\n",
        "print(\"🌦 Weather Data:\")\n",
        "print(fetch_weather(\"Hyderabad\"))\n",
        "\n",
        "print(\"\\n✈️ Flight Details:\")\n",
        "print(fetch_flight_details(\"JFK\", \"CDG\", \"2025-04-10\"))\n",
        "\n",
        "print(\"\\n🏨 Hotel Recommendations:\")\n",
        "print(fetch_hotels(\"Hyderabad\"))\n",
        "\n",
        "print(\"\\n🏛 Tourist Attractions:\")\n",
        "print(fetch_tourist_attractions(\"Paris\"))\n",
        "\n",
        "\n",
        "# ✅ Test AI storytelling generation\n",
        "print(\"\\n📖 AI-Generated Travel Story:\")\n",
        "travel_story = generate_travel_story(\"Paris\", \"Leisure\", \"2025-04-10\", \"2025-04-20\")\n",
        "print(travel_story)\n",
        "\n",
        "# ✅ Test AI voice narration\n",
        "print(\"\\n🎤 Generating AI Voiceover...\")\n",
        "narration_audio = generate_voiceover(travel_story)\n",
        "print(f\"🔊 Audio file generated: {narration_audio}\")\n",
        "\n",
        "# ✅ Test AI video generation\n",
        "print(\"\\n🎥 Creating AI Travel Video...\")\n",
        "travel_images = [\"https://source.unsplash.com/600x400/?Paris\", \"https://source.unsplash.com/600x400/?EiffelTower\"]\n",
        "travel_video = create_travel_video(travel_images, narration_audio)\n",
        "print(f\"🎬 Video file generated: {travel_video}\")\n"
      ],
      "metadata": {
        "id": "R6LK8qv-gkSg"
      },
      "execution_count": null,
      "outputs": []
    },
    {
      "cell_type": "code",
      "source": [],
      "metadata": {
        "id": "D9xwutEaHTKj"
      },
      "execution_count": null,
      "outputs": []
    }
  ]
}